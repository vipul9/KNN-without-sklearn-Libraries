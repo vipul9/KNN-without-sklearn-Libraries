{
 "cells": [
  {
   "cell_type": "markdown",
   "metadata": {},
   "source": [
    "### This is a python implimentation of k-Nearest-Neighbors (KNN) algorithm for general value of k."
   ]
  },
  {
   "cell_type": "code",
   "execution_count": 180,
   "metadata": {},
   "outputs": [],
   "source": [
    "#importing libraries\n",
    "from sklearn.datasets import load_iris\n",
    "from sklearn.model_selection import train_test_split\n",
    "import numpy as np\n",
    "from math import sqrt\n",
    "from statistics import mode"
   ]
  },
  {
   "cell_type": "code",
   "execution_count": 181,
   "metadata": {},
   "outputs": [],
   "source": [
    "#loading Iris and Inosphere datasets\n",
    "#for iris data\n",
    "iris = load_iris()\n",
    "X_iris = iris['data']\n",
    "y_iris = iris['target']\n",
    "\n",
    "#for ionosphere data\n",
    "ionosphere_data = np.genfromtxt(\"ionosphere.txt\", delimiter=',', names=True, dtype=None)\n",
    "list_data = [list(x) for x in ionosphere_data]\n",
    "X_ino = []\n",
    "y_ino = []\n",
    "for i,d in enumerate(list_data):\n",
    "    X_ino.append([x for j,x in enumerate(d) if j!=len(d)-1])\n",
    "    y_ino.append([x for j,x in enumerate(d) if j==len(d)-1])\n",
    "\n",
    "X_ino = np.array(X_ino)\n",
    "y_ino = np.hstack(y_ino) #np.hstack will form a list of labels. As per the name, it stacks values horizontally."
   ]
  },
  {
   "cell_type": "code",
   "execution_count": 182,
   "metadata": {},
   "outputs": [],
   "source": [
    "#defining fuction to sort a list in ascending order\n",
    "def list_sort(l):    \n",
    "    for i in range(len(l)):\n",
    "        for j in range(len(l) - 1):\n",
    "            if l[j] > l[j+1]:\n",
    "                l[j], l[j + 1] = l[j + 1], l[j]            \n",
    "    return l"
   ]
  },
  {
   "cell_type": "markdown",
   "metadata": {},
   "source": [
    "Next section contains a function knn_prediction to implement knn algorithm for general k.\n",
    "Function knn_prediction can take 6 arguments, in which 2 are primary, X(data) and y(labels), and 4 are secondary (test_size, train_size, random_state, k) which\n",
    "have default values."
   ]
  },
  {
   "cell_type": "code",
   "execution_count": 183,
   "metadata": {},
   "outputs": [],
   "source": [
    "def knn_prediction(X, y, test_size= 0.25, train_size = 0.75, random_state = 94, k=3):\n",
    "    \n",
    "    X_train, X_test, y_train, y_test = train_test_split(X, y, test_size=test_size, train_size=train_size, random_state = random_state)\n",
    "    \n",
    "    #calculating distance\n",
    "    dist = []\n",
    "    for i in range(len(X_test)):\n",
    "        for j in range(len(X_train)):\n",
    "            d = sqrt(sum((X_test[i]-X_train[j])**2))\n",
    "            dist.append([d,j])\n",
    "\n",
    "    #finding minimun distance for one point\n",
    "    #Note: total number of ditsnces are len(X_test)*Len(X_train). In other words for 1 test point, there are\n",
    "    #len(X_train) number of distances. As this number is constant, we can use this number to separate distances that belongs\n",
    "    #to given point in the dist[] array. For example, let say we have 2 test points and 5 training points. We will get 10 distances\n",
    "    #from these points. First 5 will belong to test point 1 and next 5 will be of test point 2. \n",
    "    \n",
    "    temp1 = []\n",
    "    temp2 = []\n",
    "    pred = []\n",
    "    \n",
    "    for i in range(int(len(dist)/len(X_train))):\n",
    "        temp1 = list_sort(dist[i*len(X_train):len(X_train)*(i+1)])\n",
    "        \n",
    "        for j in range(k):\n",
    "            temp2.append(y_train[temp1[j][1]]==y_test[i])\n",
    "            \n",
    "        if temp2.count(True) == temp2.count(False):\n",
    "            rand_num = random.uniform(1, 2)       #This is a case of a tie. Using uniform random number to break this tie, \n",
    "            if rand_num < 1.5:                    #as both lebels are equally likely.\n",
    "                pred.append(True)\n",
    "            else:\n",
    "                pred.append(False)\n",
    "        else:\n",
    "            pred.append(mode(temp2))   \n",
    "        temp2.clear()\n",
    "        temp1.clear()\n",
    "    \n",
    "    score = sum(pred)/len(y_test)\n",
    "    num_error = pred.count(False)\n",
    "    error = 1 - score\n",
    "    return print(' k  Accuracy  Errors    Error_rate\\n',k, \"  {:.4f}\".format(score),\" \", num_error, \"in\",len(pred) ,\"  {:.4f}\".format(error))"
   ]
  },
  {
   "cell_type": "markdown",
   "metadata": {},
   "source": [
    "Making prediction for Iris data set for k=1"
   ]
  },
  {
   "cell_type": "code",
   "execution_count": 184,
   "metadata": {},
   "outputs": [
    {
     "name": "stdout",
     "output_type": "stream",
     "text": [
      " k  Accuracy  Errors    Error_rate\n",
      " 1   0.9474   2 in 38   0.0526\n"
     ]
    }
   ],
   "source": [
    "knn_prediction(X_iris,y_iris,k=1)"
   ]
  },
  {
   "cell_type": "markdown",
   "metadata": {},
   "source": [
    "Making prediction for Iris data set for k=3"
   ]
  },
  {
   "cell_type": "code",
   "execution_count": 185,
   "metadata": {},
   "outputs": [
    {
     "name": "stdout",
     "output_type": "stream",
     "text": [
      " k  Accuracy  Errors    Error_rate\n",
      " 3   0.9737   1 in 38   0.0263\n"
     ]
    }
   ],
   "source": [
    "knn_prediction(X_iris,y_iris,k=3)"
   ]
  },
  {
   "cell_type": "markdown",
   "metadata": {},
   "source": [
    "Making prediction for Ionosphere data set for k=1"
   ]
  },
  {
   "cell_type": "code",
   "execution_count": 186,
   "metadata": {},
   "outputs": [
    {
     "name": "stdout",
     "output_type": "stream",
     "text": [
      " k  Accuracy  Errors    Error_rate\n",
      " 1   0.8409   14 in 88   0.1591\n"
     ]
    }
   ],
   "source": [
    "knn_prediction(X_ino,y_ino,k=1)"
   ]
  },
  {
   "cell_type": "markdown",
   "metadata": {},
   "source": [
    "Making prediction for Ionosphere data set for k=3"
   ]
  },
  {
   "cell_type": "code",
   "execution_count": 187,
   "metadata": {},
   "outputs": [
    {
     "name": "stdout",
     "output_type": "stream",
     "text": [
      " k  Accuracy  Errors    Error_rate\n",
      " 3   0.8182   16 in 88   0.1818\n"
     ]
    }
   ],
   "source": [
    "knn_prediction(X_ino,y_ino,k=3)"
   ]
  },
  {
   "cell_type": "code",
   "execution_count": null,
   "metadata": {},
   "outputs": [],
   "source": []
  }
 ],
 "metadata": {
  "kernelspec": {
   "display_name": "Python 3",
   "language": "python",
   "name": "python3"
  },
  "language_info": {
   "codemirror_mode": {
    "name": "ipython",
    "version": 3
   },
   "file_extension": ".py",
   "mimetype": "text/x-python",
   "name": "python",
   "nbconvert_exporter": "python",
   "pygments_lexer": "ipython3",
   "version": "3.8.5"
  }
 },
 "nbformat": 4,
 "nbformat_minor": 4
}
